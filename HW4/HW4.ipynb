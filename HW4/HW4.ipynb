{
 "cells": [
  {
   "cell_type": "markdown",
   "id": "609dcb62-c2f8-4c6d-9c89-63dc0148a87c",
   "metadata": {
    "id": "609dcb62-c2f8-4c6d-9c89-63dc0148a87c"
   },
   "source": [
    "<div align=\"center\">\n",
    "\n",
    "### Lab 4\n",
    "\n",
    "# National Tsing Hua University\n",
    "\n",
    "#### Spring 2025\n",
    "\n",
    "#### 11320IEEM 513600\n",
    "\n",
    "#### Deep Learning and Industrial Applications\n",
    "    \n",
    "## Lab 4: Predicting Stock Price with Deep Learning\n",
    "\n",
    "</div>"
   ]
  },
  {
   "cell_type": "markdown",
   "id": "061c22d2-eec4-40f4-866b-ccaa2d9a2963",
   "metadata": {
    "id": "061c22d2-eec4-40f4-866b-ccaa2d9a2963",
    "jp-MarkdownHeadingCollapsed": true,
    "tags": []
   },
   "source": [
    "### Introduction\n",
    "\n",
    "In this lab, we explore the application of time-series datasets using Long Short-Term Memory (LSTM) networks, a type of recurrent neural network, to predict stock prices. Specifically, we will use historical price data from Nvidia to forecast the stock's price for the next day based on the prices of the previous N days. This approach is particularly relevant given the volatile nature of stock markets and the increasing reliance on automated trading systems.\n",
    "\n",
    "### Objectives\n",
    "\n",
    "- To understand the fundamentals of LSTM networks and their application in time-series forecasting.\n",
    "- To develop a predictive model that can accurately forecast Nvidia's stock price for the next day using historical data.\n",
    "\n",
    "### Dataset\n",
    "\n",
    "The dataset for this lab is from the \"Huge Stock Market Dataset\" available on Kaggle. This dataset includes daily prices and volumes for all US stocks and ETFs, with a specific focus on Nvidia (NVDA). The dataset features include:\n",
    "\n",
    "- **Date**: The recorded data points.\n",
    "- **Open**: The price at which the stock first traded upon the opening of an exchange on a given trading day.\n",
    "- **High**: The highest price at which the stock traded during the trading day.\n",
    "- **Low**: The lowest price at which the stock traded during the trading day.\n",
    "- **Close**: The price of the stock at closing time.\n",
    "- **Volume**: The number of shares or contracts traded in a security or an entire market during a given period.\n",
    "- **OpenInt**: The total number of outstanding derivative contracts, like options or futures. [More details here](https://www.kaggle.com/datasets/borismarjanovic/price-volume-data-for-all-us-stocks-etfs/discussion/121096)\n",
    "\n",
    "### References\n",
    "\n",
    "- [Huge Stock Market Dataset](https://www.kaggle.com/datasets/borismarjanovic/price-volume-data-for-all-us-stocks-etfs) for the dataset used in this lab.\n"
   ]
  },
  {
   "cell_type": "markdown",
   "id": "ad594fc8-4989-40f3-b124-4550fe7df386",
   "metadata": {
    "id": "ad594fc8-4989-40f3-b124-4550fe7df386"
   },
   "source": [
    "## A. Checking and Preprocessing"
   ]
  },
  {
   "cell_type": "code",
   "execution_count": 350,
   "id": "0b774bc1",
   "metadata": {},
   "outputs": [],
   "source": [
    "import glob\n",
    "import matplotlib.pyplot as plt\n",
    "import random\n",
    "from tqdm.auto import tqdm\n",
    "import numpy as np"
   ]
  },
  {
   "cell_type": "code",
   "execution_count": 351,
   "id": "a197533f",
   "metadata": {},
   "outputs": [],
   "source": [
    "def set_seed(seed=1314520):\n",
    "    import random, os\n",
    "    import numpy as np\n",
    "    import torch\n",
    "\n",
    "    random.seed(seed)\n",
    "    np.random.seed(seed)\n",
    "    os.environ['PYTHONHASHSEED'] = str(seed)\n",
    "\n",
    "    torch.manual_seed(seed)\n",
    "    torch.cuda.manual_seed(seed)\n",
    "    torch.cuda.manual_seed_all(seed)\n",
    "\n",
    "    torch.backends.cudnn.deterministic = True\n",
    "    torch.backends.cudnn.benchmark = False\n",
    "\n",
    "set_seed(1314520)"
   ]
  },
  {
   "cell_type": "code",
   "execution_count": 352,
   "id": "QN9wm55dAwyz",
   "metadata": {
    "colab": {
     "base_uri": "https://localhost:8080/"
    },
    "executionInfo": {
     "elapsed": 19575,
     "status": "ok",
     "timestamp": 1744823377589,
     "user": {
      "displayName": "林明聰",
      "userId": "10350944269371174646"
     },
     "user_tz": -480
    },
    "id": "QN9wm55dAwyz",
    "outputId": "c11217ca-e2fd-4fd0-95f1-8700583feaf3"
   },
   "outputs": [],
   "source": [
    "# from google.colab import drive\n",
    "# drive.mount('/content/drive')\n",
    "file_paths = glob.glob('nvda.us.txt')"
   ]
  },
  {
   "cell_type": "code",
   "execution_count": 353,
   "id": "42a3eafd-cbcd-4c56-82cb-83a0bfa2399e",
   "metadata": {
    "colab": {
     "base_uri": "https://localhost:8080/",
     "height": 424
    },
    "executionInfo": {
     "elapsed": 2113,
     "status": "ok",
     "timestamp": 1744823379713,
     "user": {
      "displayName": "林明聰",
      "userId": "10350944269371174646"
     },
     "user_tz": -480
    },
    "id": "42a3eafd-cbcd-4c56-82cb-83a0bfa2399e",
    "outputId": "04904277-f9b5-45ab-9daa-9d0fade46bce"
   },
   "outputs": [
    {
     "data": {
      "text/html": [
       "<div>\n",
       "<style scoped>\n",
       "    .dataframe tbody tr th:only-of-type {\n",
       "        vertical-align: middle;\n",
       "    }\n",
       "\n",
       "    .dataframe tbody tr th {\n",
       "        vertical-align: top;\n",
       "    }\n",
       "\n",
       "    .dataframe thead th {\n",
       "        text-align: right;\n",
       "    }\n",
       "</style>\n",
       "<table border=\"1\" class=\"dataframe\">\n",
       "  <thead>\n",
       "    <tr style=\"text-align: right;\">\n",
       "      <th></th>\n",
       "      <th>Date</th>\n",
       "      <th>Open</th>\n",
       "      <th>High</th>\n",
       "      <th>Low</th>\n",
       "      <th>Close</th>\n",
       "      <th>Volume</th>\n",
       "      <th>OpenInt</th>\n",
       "    </tr>\n",
       "  </thead>\n",
       "  <tbody>\n",
       "    <tr>\n",
       "      <th>0</th>\n",
       "      <td>1999-01-22</td>\n",
       "      <td>1.6238</td>\n",
       "      <td>1.8092</td>\n",
       "      <td>1.4379</td>\n",
       "      <td>1.5215</td>\n",
       "      <td>18297633</td>\n",
       "      <td>0</td>\n",
       "    </tr>\n",
       "    <tr>\n",
       "      <th>1</th>\n",
       "      <td>1999-01-25</td>\n",
       "      <td>1.6423</td>\n",
       "      <td>1.6980</td>\n",
       "      <td>1.5215</td>\n",
       "      <td>1.6793</td>\n",
       "      <td>3445279</td>\n",
       "      <td>0</td>\n",
       "    </tr>\n",
       "    <tr>\n",
       "      <th>2</th>\n",
       "      <td>1999-01-26</td>\n",
       "      <td>1.6980</td>\n",
       "      <td>1.7350</td>\n",
       "      <td>1.5311</td>\n",
       "      <td>1.5494</td>\n",
       "      <td>2320993</td>\n",
       "      <td>0</td>\n",
       "    </tr>\n",
       "    <tr>\n",
       "      <th>3</th>\n",
       "      <td>1999-01-27</td>\n",
       "      <td>1.5586</td>\n",
       "      <td>1.5957</td>\n",
       "      <td>1.4660</td>\n",
       "      <td>1.5494</td>\n",
       "      <td>1662658</td>\n",
       "      <td>0</td>\n",
       "    </tr>\n",
       "    <tr>\n",
       "      <th>4</th>\n",
       "      <td>1999-01-28</td>\n",
       "      <td>1.5494</td>\n",
       "      <td>1.5586</td>\n",
       "      <td>1.5311</td>\n",
       "      <td>1.5401</td>\n",
       "      <td>1540110</td>\n",
       "      <td>0</td>\n",
       "    </tr>\n",
       "    <tr>\n",
       "      <th>...</th>\n",
       "      <td>...</td>\n",
       "      <td>...</td>\n",
       "      <td>...</td>\n",
       "      <td>...</td>\n",
       "      <td>...</td>\n",
       "      <td>...</td>\n",
       "      <td>...</td>\n",
       "    </tr>\n",
       "    <tr>\n",
       "      <th>4728</th>\n",
       "      <td>2017-11-06</td>\n",
       "      <td>207.2000</td>\n",
       "      <td>209.9800</td>\n",
       "      <td>206.7000</td>\n",
       "      <td>209.6300</td>\n",
       "      <td>9731783</td>\n",
       "      <td>0</td>\n",
       "    </tr>\n",
       "    <tr>\n",
       "      <th>4729</th>\n",
       "      <td>2017-11-07</td>\n",
       "      <td>210.5500</td>\n",
       "      <td>212.9000</td>\n",
       "      <td>210.0560</td>\n",
       "      <td>212.0000</td>\n",
       "      <td>10671815</td>\n",
       "      <td>0</td>\n",
       "    </tr>\n",
       "    <tr>\n",
       "      <th>4730</th>\n",
       "      <td>2017-11-08</td>\n",
       "      <td>211.8500</td>\n",
       "      <td>212.0000</td>\n",
       "      <td>207.2400</td>\n",
       "      <td>209.1600</td>\n",
       "      <td>13033902</td>\n",
       "      <td>0</td>\n",
       "    </tr>\n",
       "    <tr>\n",
       "      <th>4731</th>\n",
       "      <td>2017-11-09</td>\n",
       "      <td>205.2700</td>\n",
       "      <td>206.3300</td>\n",
       "      <td>200.3700</td>\n",
       "      <td>205.3200</td>\n",
       "      <td>23895006</td>\n",
       "      <td>0</td>\n",
       "    </tr>\n",
       "    <tr>\n",
       "      <th>4732</th>\n",
       "      <td>2017-11-10</td>\n",
       "      <td>213.0800</td>\n",
       "      <td>218.6700</td>\n",
       "      <td>211.6300</td>\n",
       "      <td>216.1400</td>\n",
       "      <td>31300857</td>\n",
       "      <td>0</td>\n",
       "    </tr>\n",
       "  </tbody>\n",
       "</table>\n",
       "<p>4733 rows × 7 columns</p>\n",
       "</div>"
      ],
      "text/plain": [
       "            Date      Open      High       Low     Close    Volume  OpenInt\n",
       "0     1999-01-22    1.6238    1.8092    1.4379    1.5215  18297633        0\n",
       "1     1999-01-25    1.6423    1.6980    1.5215    1.6793   3445279        0\n",
       "2     1999-01-26    1.6980    1.7350    1.5311    1.5494   2320993        0\n",
       "3     1999-01-27    1.5586    1.5957    1.4660    1.5494   1662658        0\n",
       "4     1999-01-28    1.5494    1.5586    1.5311    1.5401   1540110        0\n",
       "...          ...       ...       ...       ...       ...       ...      ...\n",
       "4728  2017-11-06  207.2000  209.9800  206.7000  209.6300   9731783        0\n",
       "4729  2017-11-07  210.5500  212.9000  210.0560  212.0000  10671815        0\n",
       "4730  2017-11-08  211.8500  212.0000  207.2400  209.1600  13033902        0\n",
       "4731  2017-11-09  205.2700  206.3300  200.3700  205.3200  23895006        0\n",
       "4732  2017-11-10  213.0800  218.6700  211.6300  216.1400  31300857        0\n",
       "\n",
       "[4733 rows x 7 columns]"
      ]
     },
     "execution_count": 353,
     "metadata": {},
     "output_type": "execute_result"
    }
   ],
   "source": [
    "import pandas as pd\n",
    "\n",
    "df = pd.read_csv('nvda.us.txt')\n",
    "df"
   ]
  },
  {
   "cell_type": "code",
   "execution_count": 354,
   "id": "97f3e5ca-600c-42f6-88d2-8e057ca2c612",
   "metadata": {
    "id": "97f3e5ca-600c-42f6-88d2-8e057ca2c612"
   },
   "outputs": [
    {
     "data": {
      "image/png": "[encoded data removed]",
      "text/plain": [
       "<Figure size 1500x500 with 1 Axes>"
      ]
     },
     "metadata": {},
     "output_type": "display_data"
    }
   ],
   "source": [
    "plot = df.plot('Date', 'High', figsize=(15, 5))"
   ]
  },
  {
   "cell_type": "code",
   "execution_count": 355,
   "id": "34241797-60f0-4818-a44b-f5379948d621",
   "metadata": {
    "id": "34241797-60f0-4818-a44b-f5379948d621"
   },
   "outputs": [
    {
     "data": {
      "text/plain": [
       "Index(['Date', 'Open', 'High', 'Low', 'Close', 'Volume', 'OpenInt'], dtype='object')"
      ]
     },
     "execution_count": 355,
     "metadata": {},
     "output_type": "execute_result"
    }
   ],
   "source": [
    "df.columns"
   ]
  },
  {
   "cell_type": "code",
   "execution_count": 356,
   "id": "026585db-a6d8-4062-85de-e3a7eaebed72",
   "metadata": {
    "id": "026585db-a6d8-4062-85de-e3a7eaebed72"
   },
   "outputs": [
    {
     "name": "stdout",
     "output_type": "stream",
     "text": [
      "<class 'pandas.core.frame.DataFrame'>\n",
      "RangeIndex: 4733 entries, 0 to 4732\n",
      "Data columns (total 7 columns):\n",
      " #   Column   Non-Null Count  Dtype  \n",
      "---  ------   --------------  -----  \n",
      " 0   Date     4733 non-null   object \n",
      " 1   Open     4733 non-null   float64\n",
      " 2   High     4733 non-null   float64\n",
      " 3   Low      4733 non-null   float64\n",
      " 4   Close    4733 non-null   float64\n",
      " 5   Volume   4733 non-null   int64  \n",
      " 6   OpenInt  4733 non-null   int64  \n",
      "dtypes: float64(4), int64(2), object(1)\n",
      "memory usage: 259.0+ KB\n"
     ]
    }
   ],
   "source": [
    "df.info()"
   ]
  },
  {
   "cell_type": "code",
   "execution_count": 357,
   "id": "69031e6d-0fb5-49d9-b723-a0d1fee08c3c",
   "metadata": {
    "id": "69031e6d-0fb5-49d9-b723-a0d1fee08c3c"
   },
   "outputs": [
    {
     "data": {
      "text/plain": [
       "Date       0\n",
       "Open       0\n",
       "High       0\n",
       "Low        0\n",
       "Close      0\n",
       "Volume     0\n",
       "OpenInt    0\n",
       "dtype: int64"
      ]
     },
     "execution_count": 357,
     "metadata": {},
     "output_type": "execute_result"
    }
   ],
   "source": [
    "# checking for null values\n",
    "df.isnull().sum()"
   ]
  },
  {
   "cell_type": "code",
   "execution_count": 358,
   "id": "cb3090f8-2cfa-4f56-8aa5-cf954bb19932",
   "metadata": {
    "id": "cb3090f8-2cfa-4f56-8aa5-cf954bb19932"
   },
   "outputs": [],
   "source": [
    "df = df.dropna()"
   ]
  },
  {
   "cell_type": "code",
   "execution_count": 359,
   "id": "38aadbee-d68f-4ae0-b842-b40800b0cac9",
   "metadata": {
    "id": "38aadbee-d68f-4ae0-b842-b40800b0cac9"
   },
   "outputs": [
    {
     "data": {
      "text/plain": [
       "(4733, 7)"
      ]
     },
     "execution_count": 359,
     "metadata": {},
     "output_type": "execute_result"
    }
   ],
   "source": [
    "df.shape"
   ]
  },
  {
   "cell_type": "code",
   "execution_count": 360,
   "id": "051108c6-7011-4187-9e36-bd2944a019ca",
   "metadata": {
    "id": "051108c6-7011-4187-9e36-bd2944a019ca"
   },
   "outputs": [
    {
     "data": {
      "text/html": [
       "<div>\n",
       "<style scoped>\n",
       "    .dataframe tbody tr th:only-of-type {\n",
       "        vertical-align: middle;\n",
       "    }\n",
       "\n",
       "    .dataframe tbody tr th {\n",
       "        vertical-align: top;\n",
       "    }\n",
       "\n",
       "    .dataframe thead th {\n",
       "        text-align: right;\n",
       "    }\n",
       "</style>\n",
       "<table border=\"1\" class=\"dataframe\">\n",
       "  <thead>\n",
       "    <tr style=\"text-align: right;\">\n",
       "      <th></th>\n",
       "      <th>Open</th>\n",
       "      <th>High</th>\n",
       "      <th>Low</th>\n",
       "      <th>Close</th>\n",
       "      <th>Volume</th>\n",
       "      <th>OpenInt</th>\n",
       "    </tr>\n",
       "  </thead>\n",
       "  <tbody>\n",
       "    <tr>\n",
       "      <th>count</th>\n",
       "      <td>4733.000000</td>\n",
       "      <td>4733.000000</td>\n",
       "      <td>4733.000000</td>\n",
       "      <td>4733.000000</td>\n",
       "      <td>4.733000e+03</td>\n",
       "      <td>4733.0</td>\n",
       "    </tr>\n",
       "    <tr>\n",
       "      <th>mean</th>\n",
       "      <td>20.796242</td>\n",
       "      <td>21.157332</td>\n",
       "      <td>20.420417</td>\n",
       "      <td>20.805404</td>\n",
       "      <td>1.615287e+07</td>\n",
       "      <td>0.0</td>\n",
       "    </tr>\n",
       "    <tr>\n",
       "      <th>std</th>\n",
       "      <td>30.236284</td>\n",
       "      <td>30.615622</td>\n",
       "      <td>29.792958</td>\n",
       "      <td>30.263705</td>\n",
       "      <td>1.272446e+07</td>\n",
       "      <td>0.0</td>\n",
       "    </tr>\n",
       "    <tr>\n",
       "      <th>min</th>\n",
       "      <td>1.298900</td>\n",
       "      <td>1.317500</td>\n",
       "      <td>1.233900</td>\n",
       "      <td>1.261900</td>\n",
       "      <td>0.000000e+00</td>\n",
       "      <td>0.0</td>\n",
       "    </tr>\n",
       "    <tr>\n",
       "      <th>25%</th>\n",
       "      <td>7.988300</td>\n",
       "      <td>8.247900</td>\n",
       "      <td>7.756400</td>\n",
       "      <td>7.978900</td>\n",
       "      <td>8.181100e+06</td>\n",
       "      <td>0.0</td>\n",
       "    </tr>\n",
       "    <tr>\n",
       "      <th>50%</th>\n",
       "      <td>12.963000</td>\n",
       "      <td>13.238000</td>\n",
       "      <td>12.721000</td>\n",
       "      <td>12.990000</td>\n",
       "      <td>1.390271e+07</td>\n",
       "      <td>0.0</td>\n",
       "    </tr>\n",
       "    <tr>\n",
       "      <th>75%</th>\n",
       "      <td>19.141000</td>\n",
       "      <td>19.418000</td>\n",
       "      <td>18.778000</td>\n",
       "      <td>19.106000</td>\n",
       "      <td>2.051602e+07</td>\n",
       "      <td>0.0</td>\n",
       "    </tr>\n",
       "    <tr>\n",
       "      <th>max</th>\n",
       "      <td>213.080000</td>\n",
       "      <td>218.670000</td>\n",
       "      <td>211.630000</td>\n",
       "      <td>216.140000</td>\n",
       "      <td>2.496659e+08</td>\n",
       "      <td>0.0</td>\n",
       "    </tr>\n",
       "  </tbody>\n",
       "</table>\n",
       "</div>"
      ],
      "text/plain": [
       "              Open         High          Low        Close        Volume  \\\n",
       "count  4733.000000  4733.000000  4733.000000  4733.000000  4.733000e+03   \n",
       "mean     20.796242    21.157332    20.420417    20.805404  1.615287e+07   \n",
       "std      30.236284    30.615622    29.792958    30.263705  1.272446e+07   \n",
       "min       1.298900     1.317500     1.233900     1.261900  0.000000e+00   \n",
       "25%       7.988300     8.247900     7.756400     7.978900  8.181100e+06   \n",
       "50%      12.963000    13.238000    12.721000    12.990000  1.390271e+07   \n",
       "75%      19.141000    19.418000    18.778000    19.106000  2.051602e+07   \n",
       "max     213.080000   218.670000   211.630000   216.140000  2.496659e+08   \n",
       "\n",
       "       OpenInt  \n",
       "count   4733.0  \n",
       "mean       0.0  \n",
       "std        0.0  \n",
       "min        0.0  \n",
       "25%        0.0  \n",
       "50%        0.0  \n",
       "75%        0.0  \n",
       "max        0.0  "
      ]
     },
     "execution_count": 360,
     "metadata": {},
     "output_type": "execute_result"
    }
   ],
   "source": [
    "df.describe()"
   ]
  },
  {
   "cell_type": "code",
   "execution_count": null,
   "id": "3458a5eb",
   "metadata": {},
   "outputs": [],
   "source": []
  },
  {
   "cell_type": "markdown",
   "id": "8ce7a0c5-76d6-4863-ba61-0544a220962a",
   "metadata": {
    "id": "8ce7a0c5-76d6-4863-ba61-0544a220962a"
   },
   "source": [
    "#### Converting the DataFrame to a NumPy Array"
   ]
  },
  {
   "cell_type": "code",
   "execution_count": 361,
   "id": "5735baad-2db8-4306-aa4c-7788d2b49621",
   "metadata": {
    "id": "5735baad-2db8-4306-aa4c-7788d2b49621"
   },
   "outputs": [],
   "source": [
    "def create_sequences(input_data, output_data, window_size, step):\n",
    "    sequences = []\n",
    "    labels = []\n",
    "    for i in range(0, len(input_data) - window_size, step):\n",
    "        sequences.append(input_data[i:(i + window_size)])\n",
    "        labels.append(output_data[i + window_size])\n",
    "    return np.array(sequences), np.array(labels)"
   ]
  },
  {
   "cell_type": "code",
   "execution_count": 362,
   "id": "29b8e189-7f39-435a-8038-39098b147325",
   "metadata": {
    "id": "29b8e189-7f39-435a-8038-39098b147325"
   },
   "outputs": [
    {
     "name": "stdout",
     "output_type": "stream",
     "text": [
      "Shape of data X: (946, 5, 5)\n",
      "Shape of data y: (946,)\n",
      "Shape of data x_train: (681, 5, 5)\n",
      "Shape of data y_train: (681,)\n",
      "Shape of data x_val: (171, 5, 5)\n",
      "Shape of data y_val: (171,)\n",
      "Shape of data x_test: (94, 5, 5)\n",
      "Shape of data y_test: (94,)\n",
      "Number of samples in training and validation are 681 and 171.\n"
     ]
    }
   ],
   "source": [
    "import numpy as np\n",
    "import torch\n",
    "from torch.utils.data import DataLoader, TensorDataset\n",
    "import matplotlib.pyplot as plt\n",
    "\n",
    "features = df[['Open', 'High', 'Low', 'Close', 'Volume']]\n",
    "labels = df['High'].shift(-1)  # Next day's high price as label\n",
    "\n",
    "X, y = create_sequences(features, labels, window_size=5, step=5)\n",
    "\n",
    "print(f'Shape of data X: {X.shape}')\n",
    "print(f'Shape of data y: {y.shape}')\n",
    "\n",
    "# split the hold-out tests\n",
    "ind = np.linspace(0, len(X)-1, num=int(len(X)*0.1), dtype=int) # 10% hold-out\n",
    "x_test = X[ind]\n",
    "y_test = y[ind]\n",
    "all_ind = np.arange(len(X))\n",
    "remains_ind = np.delete(all_ind, ind)\n",
    "\n",
    "X = X[remains_ind]\n",
    "y = y[remains_ind]\n",
    "\n",
    "# shuffle dataset\n",
    "ind = np.random.permutation(len(X))\n",
    "X = X[ind]\n",
    "y = y[ind]\n",
    "split_point = int(X.shape[0]*0.8)\n",
    "\n",
    "x_train = X[:split_point]\n",
    "y_train = y[:split_point]\n",
    "x_val = X[split_point:]\n",
    "y_val = y[split_point:]\n",
    "\n",
    "train_mean = x_train.mean(axis=(0,1), keepdims=True)\n",
    "train_std = x_train.std(axis=(0,1), keepdims=True)\n",
    "\n",
    "x_train = (x_train - train_mean) / (train_std + 1e-8)\n",
    "x_val = (x_val - train_mean) / (train_std + 1e-8)\n",
    "x_test = (x_test - train_mean) / (train_std + 1e-8)\n",
    "\n",
    "\n",
    "print(f'Shape of data x_train: {x_train.shape}')\n",
    "print(f'Shape of data y_train: {y_train.shape}')\n",
    "print(f'Shape of data x_val: {x_val.shape}')\n",
    "print(f'Shape of data y_val: {y_val.shape}')\n",
    "print(f'Shape of data x_test: {x_test.shape}')\n",
    "print(f'Shape of data y_test: {y_test.shape}')\n",
    "\n",
    "# Convert to PyTorch tensors\n",
    "x_train = torch.from_numpy(x_train).float()\n",
    "y_train = torch.from_numpy(y_train).float()\n",
    "\n",
    "x_val = torch.from_numpy(x_val).float()\n",
    "y_val = torch.from_numpy(y_val).float()\n",
    "\n",
    "x_test = torch.from_numpy(x_test).float()\n",
    "y_test = torch.from_numpy(y_test).float()\n",
    "\n",
    "batch_size = 32\n",
    "\n",
    "# Create datasets\n",
    "train_dataset = TensorDataset(x_train, y_train)\n",
    "val_dataset = TensorDataset(x_val, y_val)\n",
    "test_dataset = TensorDataset(x_test, y_test)\n",
    "\n",
    "# Create dataloaders\n",
    "train_loader = DataLoader(train_dataset, batch_size=batch_size, shuffle=True)\n",
    "val_loader = DataLoader(val_dataset, batch_size=batch_size, shuffle=False)\n",
    "test_loader = DataLoader(test_dataset, batch_size=batch_size, shuffle=False)\n",
    "\n",
    "print(f'Number of samples in training and validation are {len(train_loader.dataset)} and {len(val_loader.dataset)}.')"
   ]
  },
  {
   "cell_type": "markdown",
   "id": "8ffc26b9-6044-41e9-93e2-7dc6250dbd27",
   "metadata": {
    "id": "8ffc26b9-6044-41e9-93e2-7dc6250dbd27"
   },
   "source": [
    "## B. Defining Neural Networks"
   ]
  },
  {
   "cell_type": "code",
   "execution_count": 363,
   "id": "77975746-a7a7-4676-9527-57674cd98c0f",
   "metadata": {
    "id": "77975746-a7a7-4676-9527-57674cd98c0f"
   },
   "outputs": [],
   "source": [
    "import torch.nn as nn\n",
    "\n",
    "class LSTMModel(nn.Module):\n",
    "    def __init__(self, input_dim, hidden_dim, num_layers, output_dim):\n",
    "        super().__init__()\n",
    "        self.hidden_dim = hidden_dim\n",
    "        self.num_layers = num_layers\n",
    "        self.lstm = nn.LSTM(input_dim, hidden_dim, num_layers, batch_first=True)\n",
    "        self.fc = nn.Linear(hidden_dim, output_dim)\n",
    "\n",
    "    def forward(self, x):\n",
    "        out, _ = self.lstm(x)\n",
    "        out = self.fc(out[:, -1, :])\n",
    "        return out"
   ]
  },
  {
   "cell_type": "markdown",
   "id": "cbb8b5b0-0ec0-406c-a42e-048aa00e05aa",
   "metadata": {
    "id": "cbb8b5b0-0ec0-406c-a42e-048aa00e05aa"
   },
   "source": [
    "## C. Training the Neural Network"
   ]
  },
  {
   "cell_type": "code",
   "execution_count": 364,
   "id": "3602ae7d-4034-4c49-b221-0c12a5824b18",
   "metadata": {
    "colab": {
     "base_uri": "https://localhost:8080/"
    },
    "executionInfo": {
     "elapsed": 108,
     "status": "ok",
     "timestamp": 1744823436118,
     "user": {
      "displayName": "林明聰",
      "userId": "10350944269371174646"
     },
     "user_tz": -480
    },
    "id": "3602ae7d-4034-4c49-b221-0c12a5824b18",
    "outputId": "c9e5e605-4755-46cd-8e4a-e2e3e666a910"
   },
   "outputs": [
    {
     "name": "stdout",
     "output_type": "stream",
     "text": [
      "Thu May  1 15:03:58 2025       \n",
      "+-----------------------------------------------------------------------------------------+\n",
      "| NVIDIA-SMI 572.61                 Driver Version: 572.61         CUDA Version: 12.8     |\n",
      "|-----------------------------------------+------------------------+----------------------+\n",
      "| GPU  Name                  Driver-Model | Bus-Id          Disp.A | Volatile Uncorr. ECC |\n",
      "| Fan  Temp   Perf          Pwr:Usage/Cap |           Memory-Usage | GPU-Util  Compute M. |\n",
      "|                                         |                        |               MIG M. |\n",
      "|=========================================+========================+======================|\n",
      "|   0  NVIDIA GeForce RTX 3060      WDDM  |   00000000:01:00.0  On |                  N/A |\n",
      "|  0%   55C    P2             38W /  170W |    1469MiB /  12288MiB |      3%      Default |\n",
      "|                                         |                        |                  N/A |\n",
      "+-----------------------------------------+------------------------+----------------------+\n",
      "                                                                                         \n",
      "+-----------------------------------------------------------------------------------------+\n",
      "| Processes:                                                                              |\n",
      "|  GPU   GI   CI              PID   Type   Process name                        GPU Memory |\n",
      "|        ID   ID                                                               Usage      |\n",
      "|=========================================================================================|\n",
      "|    0   N/A  N/A            1924    C+G   ...xyewy\\ShellExperienceHost.exe      N/A      |\n",
      "|    0   N/A  N/A            5160    C+G   C:\\Windows\\explorer.exe               N/A      |\n",
      "|    0   N/A  N/A            5388    C+G   ...h_cw5n1h2txyewy\\SearchApp.exe      N/A      |\n",
      "|    0   N/A  N/A            9628    C+G   ....0.3179.98\\msedgewebview2.exe      N/A      |\n",
      "|    0   N/A  N/A           11828    C+G   ...h_cw5n1h2txyewy\\SearchApp.exe      N/A      |\n",
      "|    0   N/A  N/A           12904    C+G   ...5n1h2txyewy\\TextInputHost.exe      N/A      |\n",
      "|    0   N/A  N/A           12972    C+G   ...em_tray\\lghub_system_tray.exe      N/A      |\n",
      "|    0   N/A  N/A           13076    C+G   ...8bbwe\\PhoneExperienceHost.exe      N/A      |\n",
      "|    0   N/A  N/A           13832    C+G   ...crosoft OneDrive\\OneDrive.exe      N/A      |\n",
      "|    0   N/A  N/A           15624    C+G   ...ef.win7x64\\steamwebhelper.exe      N/A      |\n",
      "|    0   N/A  N/A           16956    C+G   ....0.3179.98\\msedgewebview2.exe      N/A      |\n",
      "|    0   N/A  N/A           17744    C+G   ...ntrolPanel\\SystemSettings.exe      N/A      |\n",
      "|    0   N/A  N/A           17904    C+G   ...4__8wekyb3d8bbwe\\ms-teams.exe      N/A      |\n",
      "|    0   N/A  N/A           18696    C+G   ...Chrome\\Application\\chrome.exe      N/A      |\n",
      "|    0   N/A  N/A           20188    C+G   ...cal\\LINE\\bin\\current\\LINE.exe      N/A      |\n",
      "|    0   N/A  N/A           25760    C+G   ...ms\\Microsoft VS Code\\Code.exe      N/A      |\n",
      "|    0   N/A  N/A           26264    C+G   ...4__8wekyb3d8bbwe\\ms-teams.exe      N/A      |\n",
      "|    0   N/A  N/A           26384    C+G   ...ice\\root\\Office16\\WINWORD.EXE      N/A      |\n",
      "|    0   N/A  N/A           26464      C   ...s\\Python\\Python313\\python.exe      N/A      |\n",
      "+-----------------------------------------------------------------------------------------+\n"
     ]
    }
   ],
   "source": [
    "# Check your GPU status.\n",
    "!nvidia-smi"
   ]
  },
  {
   "cell_type": "code",
   "execution_count": 365,
   "id": "f73a5c35-c15d-49bb-8a33-a7f017159499",
   "metadata": {
    "id": "f73a5c35-c15d-49bb-8a33-a7f017159499"
   },
   "outputs": [
    {
     "name": "stdout",
     "output_type": "stream",
     "text": [
      "LSTMModel(\n",
      "  (lstm): LSTM(5, 500, num_layers=2, batch_first=True)\n",
      "  (fc): Linear(in_features=500, out_features=1, bias=True)\n",
      ")\n"
     ]
    },
    {
     "name": "stderr",
     "output_type": "stream",
     "text": [
      "100%|██████████| 200/200 [00:14<00:00, 13.52it/s]"
     ]
    },
    {
     "name": "stdout",
     "output_type": "stream",
     "text": [
      "Epoch 200/200, Train loss: 1.8742, Val loss: 5.4444, Best Val loss: 5.3830\n"
     ]
    },
    {
     "name": "stderr",
     "output_type": "stream",
     "text": [
      "\n"
     ]
    }
   ],
   "source": [
    "import torch.optim as optim\n",
    "from torch.optim.lr_scheduler import CosineAnnealingLR\n",
    "from tqdm.auto import tqdm\n",
    "\n",
    "train_losses = []\n",
    "val_losses = []\n",
    "\n",
    "epochs = 200\n",
    "\n",
    "input_dim = X.shape[-1]\n",
    "\n",
    "model = LSTMModel(input_dim = input_dim, hidden_dim=500, num_layers=2, output_dim=1).cuda()\n",
    "print(model)\n",
    "\n",
    "best_val_loss = float('inf')\n",
    "\n",
    "criterion = nn.MSELoss()\n",
    "optimizer = optim.Adam(model.parameters(), lr=1e-3)\n",
    "lr_scheduler = CosineAnnealingLR(optimizer, T_max=epochs, eta_min=0)\n",
    "\n",
    "for epoch in tqdm(range(epochs)):\n",
    "    # Training\n",
    "    model.train()\n",
    "    total_loss = 0.0\n",
    "\n",
    "    for features, labels in train_loader:\n",
    "        features = features.cuda()\n",
    "        labels = labels.cuda()\n",
    "        outputs = model(features).squeeze(-1)\n",
    "        loss = criterion(outputs, labels)\n",
    "        total_loss += loss.item()\n",
    "\n",
    "        optimizer.zero_grad()\n",
    "        loss.backward()\n",
    "        optimizer.step()\n",
    "\n",
    "    # Learning rate update\n",
    "    lr_scheduler.step()\n",
    "\n",
    "    avg_train_loss = total_loss / len(train_loader)\n",
    "\n",
    "    # Validation\n",
    "    model.eval()\n",
    "    total_val_loss = 0.0\n",
    "\n",
    "    with torch.no_grad():\n",
    "        for features, labels in val_loader:\n",
    "            features = features.cuda()\n",
    "            labels = labels.cuda()\n",
    "            outputs = model(features).squeeze(-1)\n",
    "            loss = criterion(outputs, labels)\n",
    "            total_val_loss += loss.item()\n",
    "\n",
    "    avg_val_loss = total_val_loss / len(val_loader)\n",
    "    \n",
    "\n",
    "    # Checkpoint\n",
    "    if avg_val_loss < best_val_loss:\n",
    "        best_val_loss = avg_val_loss\n",
    "        torch.save(model.state_dict(), 'best_model.pth')\n",
    "\n",
    "    # print(f'Epoch {epoch+1}/{epochs}, Train loss: {avg_train_loss:.4f}, Val loss: {avg_val_loss:.4f}, Best Val loss: {best_val_loss:.4f}')\n",
    "\n",
    "\n",
    "\n",
    "    # Store performance\n",
    "    train_losses.append(avg_train_loss)\n",
    "    val_losses.append(avg_val_loss)\n",
    "\n",
    "print(f'Epoch {epoch+1}/{epochs}, Train loss: {avg_train_loss:.4f}, Val loss: {avg_val_loss:.4f}, Best Val loss: {best_val_loss:.4f}')\n",
    "\n",
    "# print(f'Training completed. Best Validation MSE: {best_val_loss:.4f}')"
   ]
  },
  {
   "cell_type": "markdown",
   "id": "a7984c6e-6652-4160-b572-07d48bc93a3f",
   "metadata": {
    "id": "a7984c6e-6652-4160-b572-07d48bc93a3f"
   },
   "source": [
    "#### Visualizing the model performance"
   ]
  },
  {
   "cell_type": "code",
   "execution_count": 366,
   "id": "5559d850-1fb5-4b04-b6ca-60c5b309f34e",
   "metadata": {
    "id": "5559d850-1fb5-4b04-b6ca-60c5b309f34e"
   },
   "outputs": [
    {
     "data": {
      "image/png": "[encoded data removed]",
      "text/plain": [
       "<Figure size 1000x500 with 1 Axes>"
      ]
     },
     "metadata": {},
     "output_type": "display_data"
    }
   ],
   "source": [
    "import matplotlib.pyplot as plt\n",
    "\n",
    "plt.figure(figsize=(10, 5))\n",
    "plt.plot(train_losses)\n",
    "plt.plot(val_losses)\n",
    "plt.xlabel('Epochs')\n",
    "plt.ylabel('Loss')\n",
    "plt.legend(['Train', 'Val'])\n",
    "\n",
    "plt.show()"
   ]
  },
  {
   "cell_type": "markdown",
   "id": "89c7e51b-8ab6-4aa2-877d-39b6daf55c20",
   "metadata": {
    "id": "89c7e51b-8ab6-4aa2-877d-39b6daf55c20"
   },
   "source": [
    "## D. Evaluating Your Trained Model"
   ]
  },
  {
   "cell_type": "code",
   "execution_count": 367,
   "id": "4bcf8580-42ee-4ee7-ad15-9f080cc57a33",
   "metadata": {
    "id": "4bcf8580-42ee-4ee7-ad15-9f080cc57a33"
   },
   "outputs": [
    {
     "name": "stdout",
     "output_type": "stream",
     "text": [
      "average test loss:  3.6496\n"
     ]
    }
   ],
   "source": [
    "from sklearn.metrics import mean_squared_error\n",
    "# Load the trained weights\n",
    "model.load_state_dict(torch.load('best_model.pth'))\n",
    "\n",
    "# Set the model to evaluation mode\n",
    "model.eval()\n",
    "\n",
    "test_correct = 0\n",
    "test_total = 0\n",
    "\n",
    "pred_value = []\n",
    "actual_value = []\n",
    "\n",
    "\n",
    "with torch.no_grad():\n",
    "    for features, labels in test_loader:\n",
    "        features = features.cuda()\n",
    "        outputs = model(features).squeeze(-1)\n",
    "        pred_value.append(outputs.cpu())\n",
    "        actual_value.append(labels)\n",
    "\n",
    "\n",
    "\n",
    "pred_value = torch.cat(pred_value)\n",
    "actual_value = torch.cat(actual_value)\n",
    "\n",
    "\n",
    "print(\"average test loss: \", round(mean_squared_error(pred_value, actual_value), 4))"
   ]
  },
  {
   "cell_type": "code",
   "execution_count": 368,
   "id": "dde4e0a5-32be-4db3-95fb-4fad8926ce9b",
   "metadata": {
    "id": "dde4e0a5-32be-4db3-95fb-4fad8926ce9b"
   },
   "outputs": [
    {
     "data": {
      "image/png": "[encoded data removed]",
      "text/plain": [
       "<Figure size 1000x500 with 1 Axes>"
      ]
     },
     "metadata": {},
     "output_type": "display_data"
    }
   ],
   "source": [
    "plt.figure(figsize=(10, 5))\n",
    "plt.plot(pred_value[:])\n",
    "plt.plot(actual_value[:])\n",
    "plt.xlabel('Day')\n",
    "plt.ylabel('Price')\n",
    "plt.legend(['Pred', 'Actual'])\n",
    "\n",
    "plt.show()"
   ]
  },
  {
   "cell_type": "code",
   "execution_count": null,
   "id": "f8cc1525",
   "metadata": {},
   "outputs": [],
   "source": []
  }
 ],
 "metadata": {
  "accelerator": "GPU",
  "colab": {
   "gpuType": "T4",
   "provenance": [],
   "toc_visible": true
  },
  "kernelspec": {
   "display_name": "Python 3",
   "name": "python3"
  },
  "language_info": {
   "codemirror_mode": {
    "name": "ipython",
    "version": 3
   },
   "file_extension": ".py",
   "mimetype": "text/x-python",
   "name": "python",
   "nbconvert_exporter": "python",
   "pygments_lexer": "ipython3",
   "version": "3.13.3"
  }
 },
 "nbformat": 4,
 "nbformat_minor": 5
}
